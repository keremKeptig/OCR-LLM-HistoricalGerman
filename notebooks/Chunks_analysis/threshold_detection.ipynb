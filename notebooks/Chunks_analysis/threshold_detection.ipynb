{
 "cells": [
  {
   "cell_type": "code",
   "execution_count": 1,
   "id": "d50e94fe",
   "metadata": {},
   "outputs": [],
   "source": [
    "%load_ext autoreload\n",
    "%autoreload 2"
   ]
  },
  {
   "cell_type": "code",
   "execution_count": 2,
   "id": "c9bbf882",
   "metadata": {},
   "outputs": [],
   "source": [
    "import json\n",
    "import pandas as pd\n",
    "import numpy as np\n",
    "from pathlib import Path\n",
    "import matplotlib.pyplot as plt"
   ]
  },
  {
   "cell_type": "markdown",
   "id": "dadd5925",
   "metadata": {},
   "source": [
    "Load all results from chunking analysis."
   ]
  },
  {
   "cell_type": "code",
   "execution_count": 5,
   "id": "a91b8b62",
   "metadata": {},
   "outputs": [],
   "source": [
    "json_dir = Path(\"../../data/json_csv\")\n",
    "all_smoothed_ppl_values = []\n",
    "data = []\n",
    "for json_file in json_dir.glob(\"*.json\"):\n",
    "\n",
    "    with open(json_file, \"r\", encoding=\"utf-8\") as f:\n",
    "        page_content = json.load(f)\n",
    "\n",
    "    data.append(\n",
    "        {\n",
    "            \"page_id\": page_content[\"page_id\"],\n",
    "            \"words\": page_content[\"all_words_page\"],\n",
    "            \"word_smoothed_ppl\": page_content[\"word_smoothed_ppl_page\"],\n",
    "        }\n",
    "    )\n",
    "\n",
    "pd_frame = pd.DataFrame(data)"
   ]
  },
  {
   "cell_type": "code",
   "execution_count": 10,
   "id": "1caf4aa2",
   "metadata": {},
   "outputs": [
    {
     "data": {
      "text/html": [
       "<div>\n",
       "<style scoped>\n",
       "    .dataframe tbody tr th:only-of-type {\n",
       "        vertical-align: middle;\n",
       "    }\n",
       "\n",
       "    .dataframe tbody tr th {\n",
       "        vertical-align: top;\n",
       "    }\n",
       "\n",
       "    .dataframe thead th {\n",
       "        text-align: right;\n",
       "    }\n",
       "</style>\n",
       "<table border=\"1\" class=\"dataframe\">\n",
       "  <thead>\n",
       "    <tr style=\"text-align: right;\">\n",
       "      <th></th>\n",
       "      <th>page_id</th>\n",
       "      <th>words</th>\n",
       "      <th>word_smoothed_ppl</th>\n",
       "    </tr>\n",
       "  </thead>\n",
       "  <tbody>\n",
       "    <tr>\n",
       "      <th>0</th>\n",
       "      <td>1737359839_00000204</td>\n",
       "      <td>1ꝰ4</td>\n",
       "      <td>1776.659265</td>\n",
       "    </tr>\n",
       "    <tr>\n",
       "      <th>1</th>\n",
       "      <td>1737359839_00000204</td>\n",
       "      <td>ganz</td>\n",
       "      <td>88.707751</td>\n",
       "    </tr>\n",
       "    <tr>\n",
       "      <th>2</th>\n",
       "      <td>1737359839_00000204</td>\n",
       "      <td>Europa,</td>\n",
       "      <td>88.707751</td>\n",
       "    </tr>\n",
       "    <tr>\n",
       "      <th>3</th>\n",
       "      <td>1737359839_00000204</td>\n",
       "      <td>auf</td>\n",
       "      <td>88.707751</td>\n",
       "    </tr>\n",
       "    <tr>\n",
       "      <th>4</th>\n",
       "      <td>1737359839_00000204</td>\n",
       "      <td>welcher</td>\n",
       "      <td>88.707751</td>\n",
       "    </tr>\n",
       "    <tr>\n",
       "      <th>...</th>\n",
       "      <td>...</td>\n",
       "      <td>...</td>\n",
       "      <td>...</td>\n",
       "    </tr>\n",
       "    <tr>\n",
       "      <th>157736</th>\n",
       "      <td>1737379171_00000132</td>\n",
       "      <td>be</td>\n",
       "      <td>4943.00027</td>\n",
       "    </tr>\n",
       "    <tr>\n",
       "      <th>157737</th>\n",
       "      <td>1737379171_00000132</td>\n",
       "      <td>c</td>\n",
       "      <td>4943.00027</td>\n",
       "    </tr>\n",
       "    <tr>\n",
       "      <th>157738</th>\n",
       "      <td>1737379171_00000132</td>\n",
       "      <td>e</td>\n",
       "      <td>4943.00027</td>\n",
       "    </tr>\n",
       "    <tr>\n",
       "      <th>157739</th>\n",
       "      <td>1737379171_00000132</td>\n",
       "      <td>Q</td>\n",
       "      <td>4943.00027</td>\n",
       "    </tr>\n",
       "    <tr>\n",
       "      <th>157740</th>\n",
       "      <td>1737379171_00000132</td>\n",
       "      <td>D</td>\n",
       "      <td>4943.00027</td>\n",
       "    </tr>\n",
       "  </tbody>\n",
       "</table>\n",
       "<p>157741 rows × 3 columns</p>\n",
       "</div>"
      ],
      "text/plain": [
       "                    page_id    words  word_smoothed_ppl\n",
       "0       1737359839_00000204      1ꝰ4        1776.659265\n",
       "1       1737359839_00000204     ganz          88.707751\n",
       "2       1737359839_00000204  Europa,          88.707751\n",
       "3       1737359839_00000204      auf          88.707751\n",
       "4       1737359839_00000204  welcher          88.707751\n",
       "...                     ...      ...                ...\n",
       "157736  1737379171_00000132       be         4943.00027\n",
       "157737  1737379171_00000132        c         4943.00027\n",
       "157738  1737379171_00000132        e         4943.00027\n",
       "157739  1737379171_00000132        Q         4943.00027\n",
       "157740  1737379171_00000132        D         4943.00027\n",
       "\n",
       "[157741 rows x 3 columns]"
      ]
     },
     "execution_count": 10,
     "metadata": {},
     "output_type": "execute_result"
    }
   ],
   "source": [
    "exploded_df = (\n",
    "    pd_frame.explode([\"words\", \"word_smoothed_ppl\"])\n",
    "    .reset_index(drop=True)\n",
    "    .convert_dtypes()\n",
    ")\n",
    "exploded_df"
   ]
  },
  {
   "cell_type": "markdown",
   "id": "12237f43",
   "metadata": {},
   "source": [
    "### Calculate upper bound using IGR based outlier detection and remove extremely faulte pages."
   ]
  },
  {
   "cell_type": "code",
   "execution_count": 15,
   "id": "c379400b",
   "metadata": {},
   "outputs": [
    {
     "data": {
      "text/plain": [
       "np.float64(272.165088223147)"
      ]
     },
     "execution_count": 15,
     "metadata": {},
     "output_type": "execute_result"
    }
   ],
   "source": [
    "clean_ppl = exploded_df.dropna()\n",
    "Q1 = np.percentile(clean_ppl[\"word_smoothed_ppl\"], 25)\n",
    "Q3 = np.percentile(clean_ppl[\"word_smoothed_ppl\"], 75)\n",
    "IQR = Q3 - Q1\n",
    "upper_bound = Q3 + 1.5 * IQR  # Standard IQR outlier detection\n",
    "\n",
    "upper_bound"
   ]
  },
  {
   "cell_type": "markdown",
   "id": "d8eeb7c2",
   "metadata": {},
   "source": [
    "Distance from Q3 normalized by IQR. (anomalies over 1.5)"
   ]
  },
  {
   "cell_type": "code",
   "execution_count": null,
   "id": "0bbfa5e5",
   "metadata": {},
   "outputs": [],
   "source": [
    "exploded_df[\"anomaly_score\"] = (exploded_df[\"word_smoothed_ppl\"] - Q3) / IQR\n",
    "exploded_df[\"anomaly_score\"] *= exploded_df[\"anomaly_score\"] > 0"
   ]
  },
  {
   "cell_type": "code",
   "execution_count": 20,
   "id": "077d066b",
   "metadata": {},
   "outputs": [
    {
     "data": {
      "text/plain": [
       "page_id\n",
       "1724666584_00000024        -0.0\n",
       "1724666584_00000095        -0.0\n",
       "1724666584_00000133        -0.0\n",
       "1724666584_00000151        -0.0\n",
       "1724666584_00000169        -0.0\n",
       "                         ...   \n",
       "1744303878_00000010    6.329326\n",
       "1744303878_00000034        -0.0\n",
       "1744303878_00000068        -0.0\n",
       "1744303878_00000087        -0.0\n",
       "1744303878_00000108        -0.0\n",
       "Name: anomaly_score, Length: 493, dtype: Float64"
      ]
     },
     "execution_count": 20,
     "metadata": {},
     "output_type": "execute_result"
    }
   ],
   "source": [
    "page_df = exploded_df.groupby(\"page_id\")[\"anomaly_score\"].median()\n",
    "page_df"
   ]
  },
  {
   "cell_type": "markdown",
   "id": "6b4151e7",
   "metadata": {},
   "source": [
    "Remove pages where anomaly score is below 1.5 (faulty pages)."
   ]
  },
  {
   "cell_type": "code",
   "execution_count": 21,
   "id": "3586266d",
   "metadata": {},
   "outputs": [],
   "source": [
    "exploded_df = exploded_df[exploded_df[\"page_id\"].isin(page_df[page_df < 1.5].index)]"
   ]
  },
  {
   "cell_type": "markdown",
   "id": "8e0921f0",
   "metadata": {},
   "source": [
    "New threshold calculated after removal of faulty pages."
   ]
  },
  {
   "cell_type": "code",
   "execution_count": 23,
   "id": "d2f1e3ec",
   "metadata": {},
   "outputs": [
    {
     "data": {
      "text/plain": [
       "np.float64(158.263657881092)"
      ]
     },
     "execution_count": 23,
     "metadata": {},
     "output_type": "execute_result"
    }
   ],
   "source": [
    "Q1 = np.percentile(exploded_df[\"word_smoothed_ppl\"], 25)\n",
    "Q3 = np.percentile(exploded_df[\"word_smoothed_ppl\"], 75)\n",
    "IQR = Q3 - Q1\n",
    "upper_bound = Q3 + 1.5 * IQR  # Standard IQR outlier detection\n",
    "\n",
    "upper_bound"
   ]
  },
  {
   "cell_type": "code",
   "execution_count": 24,
   "id": "37e1038c",
   "metadata": {},
   "outputs": [
    {
     "data": {
      "text/html": [
       "<div>\n",
       "<style scoped>\n",
       "    .dataframe tbody tr th:only-of-type {\n",
       "        vertical-align: middle;\n",
       "    }\n",
       "\n",
       "    .dataframe tbody tr th {\n",
       "        vertical-align: top;\n",
       "    }\n",
       "\n",
       "    .dataframe thead th {\n",
       "        text-align: right;\n",
       "    }\n",
       "</style>\n",
       "<table border=\"1\" class=\"dataframe\">\n",
       "  <thead>\n",
       "    <tr style=\"text-align: right;\">\n",
       "      <th></th>\n",
       "      <th>word_smoothed_ppl</th>\n",
       "      <th>anomaly_score</th>\n",
       "    </tr>\n",
       "  </thead>\n",
       "  <tbody>\n",
       "    <tr>\n",
       "      <th>count</th>\n",
       "      <td>416.0</td>\n",
       "      <td>416.0</td>\n",
       "    </tr>\n",
       "    <tr>\n",
       "      <th>mean</th>\n",
       "      <td>287.738089</td>\n",
       "      <td>2.392663</td>\n",
       "    </tr>\n",
       "    <tr>\n",
       "      <th>std</th>\n",
       "      <td>2168.185541</td>\n",
       "      <td>23.869225</td>\n",
       "    </tr>\n",
       "    <tr>\n",
       "      <th>min</th>\n",
       "      <td>31.187606</td>\n",
       "      <td>0.0</td>\n",
       "    </tr>\n",
       "    <tr>\n",
       "      <th>25%</th>\n",
       "      <td>58.461653</td>\n",
       "      <td>0.0</td>\n",
       "    </tr>\n",
       "    <tr>\n",
       "      <th>50%</th>\n",
       "      <td>73.496028</td>\n",
       "      <td>0.039116</td>\n",
       "    </tr>\n",
       "    <tr>\n",
       "      <th>75%</th>\n",
       "      <td>104.142716</td>\n",
       "      <td>0.222772</td>\n",
       "    </tr>\n",
       "    <tr>\n",
       "      <th>max</th>\n",
       "      <td>40976.712879</td>\n",
       "      <td>450.672578</td>\n",
       "    </tr>\n",
       "  </tbody>\n",
       "</table>\n",
       "</div>"
      ],
      "text/plain": [
       "       word_smoothed_ppl  anomaly_score\n",
       "count              416.0          416.0\n",
       "mean          287.738089       2.392663\n",
       "std          2168.185541      23.869225\n",
       "min            31.187606            0.0\n",
       "25%            58.461653            0.0\n",
       "50%            73.496028       0.039116\n",
       "75%           104.142716       0.222772\n",
       "max         40976.712879     450.672578"
      ]
     },
     "execution_count": 24,
     "metadata": {},
     "output_type": "execute_result"
    }
   ],
   "source": [
    "exploded_df.groupby(\"page_id\").mean(\"word_smoothed_ppl_page\").describe()"
   ]
  },
  {
   "cell_type": "markdown",
   "id": "1ba21a9f",
   "metadata": {},
   "source": [
    "Word perplexity distribution on the log scale."
   ]
  },
  {
   "cell_type": "code",
   "execution_count": 27,
   "id": "be8a1a19",
   "metadata": {},
   "outputs": [
    {
     "name": "stderr",
     "output_type": "stream",
     "text": [
      "/tmp/ipykernel_126864/1904707556.py:2: SettingWithCopyWarning: \n",
      "A value is trying to be set on a copy of a slice from a DataFrame.\n",
      "Try using .loc[row_indexer,col_indexer] = value instead\n",
      "\n",
      "See the caveats in the documentation: https://pandas.pydata.org/pandas-docs/stable/user_guide/indexing.html#returning-a-view-versus-a-copy\n",
      "  exploded_df[\"word_smoothed_ppl\"] = pd.to_numeric(\n"
     ]
    },
    {
     "data": {
      "image/png": "[encoded data removed]",
      "text/plain": [
       "<Figure size 1000x600 with 1 Axes>"
      ]
     },
     "metadata": {},
     "output_type": "display_data"
    }
   ],
   "source": [
    "# Convert column to numeric if not already\n",
    "exploded_df[\"word_smoothed_ppl\"] = pd.to_numeric(\n",
    "    exploded_df[\"word_smoothed_ppl\"], errors=\"coerce\"\n",
    ")\n",
    "\n",
    "# Drop NaNs and non-positive values (log2 undefined for ≤ 0)\n",
    "filtered = exploded_df[exploded_df[\"word_smoothed_ppl\"] > 0].copy()\n",
    "log2_ppl = np.log2(filtered[\"word_smoothed_ppl\"])\n",
    "fig, ax = plt.subplots(figsize=(10, 6))\n",
    "\n",
    "log2_ppl.hist(bins=100, log=True, ax=ax)\n",
    "\n",
    "ax.set_title(\"Histogram of Word Perplexity\")\n",
    "ax.set_xlabel(\"Word Perplexity (log2)\")\n",
    "ax.set_ylabel(\"Frequency (log scale)\")\n",
    "\n",
    "# Plot the upper bound as vertical line\n",
    "upper_bound_log2 = np.log2(upper_bound)\n",
    "ax.axvline(\n",
    "    x=upper_bound_log2,\n",
    "    color=\"red\",\n",
    "    linestyle=\"--\",\n",
    "    linewidth=2,\n",
    "    label=f\"IQR Upper Bound (log2): {upper_bound_log2:.2f}\",\n",
    ")\n",
    "\n",
    "ax.legend()\n",
    "ax.grid(True)\n",
    "plt.show()"
   ]
  },
  {
   "cell_type": "code",
   "execution_count": 32,
   "id": "9282cfa6",
   "metadata": {},
   "outputs": [
    {
     "name": "stderr",
     "output_type": "stream",
     "text": [
      "/tmp/ipykernel_126864/2312447924.py:2: SettingWithCopyWarning: \n",
      "A value is trying to be set on a copy of a slice from a DataFrame.\n",
      "Try using .loc[row_indexer,col_indexer] = value instead\n",
      "\n",
      "See the caveats in the documentation: https://pandas.pydata.org/pandas-docs/stable/user_guide/indexing.html#returning-a-view-versus-a-copy\n",
      "  exploded_df[\"word_smoothed_ppl\"] = pd.to_numeric(\n"
     ]
    },
    {
     "data": {
      "image/png": "[encoded data removed]",
      "text/plain": [
       "<Figure size 1000x600 with 1 Axes>"
      ]
     },
     "metadata": {},
     "output_type": "display_data"
    }
   ],
   "source": [
    "# 1. Ensure values are numeric and drop invalid entries\n",
    "exploded_df[\"word_smoothed_ppl\"] = pd.to_numeric(\n",
    "    exploded_df[\"word_smoothed_ppl\"], errors=\"coerce\"\n",
    ")\n",
    "filtered = exploded_df[exploded_df[\"word_smoothed_ppl\"] > 0].copy()\n",
    "\n",
    "# 2. Optionally clip extreme values to improve visibility\n",
    "# e.g., clip at 99th percentile to reduce skew from outliers\n",
    "clip_threshold = filtered[\"word_smoothed_ppl\"].quantile(0.99)\n",
    "clipped = filtered[filtered[\"word_smoothed_ppl\"] <= clip_threshold]\n",
    "\n",
    "# 3. Plot\n",
    "fig, ax = plt.subplots(figsize=(10, 6))\n",
    "\n",
    "clipped[\"word_smoothed_ppl\"].hist(bins=100, ax=ax)\n",
    "\n",
    "ax.set_title(\"Histogram of Word Perplexity (Raw Scale, Outliers Clipped)\")\n",
    "ax.set_xlabel(\"Word Perplexity\")\n",
    "ax.set_ylabel(\"Frequency\")\n",
    "\n",
    "# Optional: Add upper bound line if it's within visible range\n",
    "if upper_bound <= clip_threshold:\n",
    "    ax.axvline(\n",
    "        x=upper_bound,\n",
    "        color=\"red\",\n",
    "        linestyle=\"--\",\n",
    "        linewidth=2,\n",
    "        label=f\"IQR Upper Bound: {upper_bound:.2f}\",\n",
    "    )\n",
    "    ax.legend()\n",
    "\n",
    "ax.grid(True)\n",
    "plt.show()"
   ]
  }
 ],
 "metadata": {
  "kernelspec": {
   "display_name": "llms-ocr",
   "language": "python",
   "name": "python3"
  },
  "language_info": {
   "codemirror_mode": {
    "name": "ipython",
    "version": 3
   },
   "file_extension": ".py",
   "mimetype": "text/x-python",
   "name": "python",
   "nbconvert_exporter": "python",
   "pygments_lexer": "ipython3",
   "version": "3.12.3"
  }
 },
 "nbformat": 4,
 "nbformat_minor": 5
}
