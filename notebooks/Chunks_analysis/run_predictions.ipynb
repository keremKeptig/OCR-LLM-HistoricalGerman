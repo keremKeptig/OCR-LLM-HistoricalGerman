{
 "cells": [
  {
   "cell_type": "code",
   "execution_count": 1,
   "id": "2c637df9",
   "metadata": {},
   "outputs": [],
   "source": [
    "%load_ext autoreload\n",
    "%autoreload 2"
   ]
  },
  {
   "cell_type": "code",
   "execution_count": null,
   "id": "7d560b04",
   "metadata": {},
   "outputs": [],
   "source": [
    "from pathlib import Path\n",
    "import sys\n",
    "import os\n",
    "sys.path.append(str(Path(os.getcwd()).parent.parent))\n",
    "\n",
    "from src.evaluator.evaluation import *\n",
    "from src.evaluator.methods.chunks_pred_scorer import ChunksPredScorer\n",
    "from src.evaluator.methods.overlay_gt_scorer import OverlayGtScorer\n",
    "from src.evaluator.methods.hybrid_overlay_gt_scorer import HybridOverlayGtScorer\n",
    "from src.evaluator.page_parser import *"
   ]
  },
  {
   "cell_type": "code",
   "execution_count": null,
   "id": "06910781",
   "metadata": {},
   "outputs": [],
   "source": [
    "# define dataset path with ground truth (with marginalia, without marginalia) for ground truth calculation\n",
    "dataset_path = Path(\"../../data\")\n",
    "# path to to load predictions from csv files (outputs from chunking analysis)\n",
    "csv_path = dataset_path / \"json_csv\""
   ]
  },
  {
   "cell_type": "code",
   "execution_count": 3,
   "id": "ea1672a9",
   "metadata": {},
   "outputs": [],
   "source": [
    "# calculate the ground truth scores\n",
    "gt_annotated_pages, original_gt_page = calculate_annotated_pages_with_gt_scorer(\n",
    "    dataset_path, HybridOverlayGtScorer()\n",
    ")\n",
    "# calculate the predictions using chunking analysis\n",
    "pred_annotated_pages = calculate_annotated_pages_with_pred_scorer(\n",
    "    dataset_path, ChunksPredScorer(data_base_dir=csv_path)\n",
    ")"
   ]
  },
  {
   "cell_type": "code",
   "execution_count": 4,
   "id": "53091b31",
   "metadata": {},
   "outputs": [
    {
     "name": "stdout",
     "output_type": "stream",
     "text": [
      "Saving ..\\..\\data\\chunks\\output\\overlay_visualization\\1724666584_00000024.bin_error_overlay.png\n",
      "Saving ..\\..\\data\\chunks\\output\\overlay_visualization\\1724666584_00000095.bin_error_overlay.png\n",
      "Saving ..\\..\\data\\chunks\\output\\overlay_visualization\\1724666584_00000133.bin_error_overlay.png\n",
      "Saving ..\\..\\data\\chunks\\output\\overlay_visualization\\1724666584_00000151.bin_error_overlay.png\n",
      "Saving ..\\..\\data\\chunks\\output\\overlay_visualization\\1724666584_00000169.bin_error_overlay.png\n",
      "Saving ..\\..\\data\\chunks\\output\\overlay_visualization\\1734305185_00000029.bin_error_overlay.png\n",
      "Saving ..\\..\\data\\chunks\\output\\overlay_visualization\\1734305185_00000200.bin_error_overlay.png\n",
      "Saving ..\\..\\data\\chunks\\output\\overlay_visualization\\1734305185_00000201.bin_error_overlay.png\n",
      "Saving ..\\..\\data\\chunks\\output\\overlay_visualization\\1734305185_00000235.bin_error_overlay.png\n",
      "Saving ..\\..\\data\\chunks\\output\\overlay_visualization\\1734305185_00000239.bin_error_overlay.png\n",
      "Saving ..\\..\\data\\chunks\\output\\overlay_visualization\\1737359839_00000015.bin_error_overlay.png\n",
      "Saving ..\\..\\data\\chunks\\output\\overlay_visualization\\1737359839_00000142.bin_error_overlay.png\n",
      "Saving ..\\..\\data\\chunks\\output\\overlay_visualization\\1737359839_00000145.bin_error_overlay.png\n",
      "Saving ..\\..\\data\\chunks\\output\\overlay_visualization\\1737359839_00000204.bin_error_overlay.png\n",
      "Saving ..\\..\\data\\chunks\\output\\overlay_visualization\\1737359839_00000247.bin_error_overlay.png\n",
      "Saving ..\\..\\data\\chunks\\output\\overlay_visualization\\173736378X_00000051.bin_error_overlay.png\n",
      "Saving ..\\..\\data\\chunks\\output\\overlay_visualization\\173736378X_00000100.bin_error_overlay.png\n",
      "Saving ..\\..\\data\\chunks\\output\\overlay_visualization\\173736378X_00000112.bin_error_overlay.png\n",
      "Saving ..\\..\\data\\chunks\\output\\overlay_visualization\\173736378X_00000120.bin_error_overlay.png\n",
      "Saving ..\\..\\data\\chunks\\output\\overlay_visualization\\173736378X_00000128.bin_error_overlay.png\n",
      "Saving ..\\..\\data\\chunks\\output\\overlay_visualization\\1737364816_00000001.bin_error_overlay.png\n",
      "Saving ..\\..\\data\\chunks\\output\\overlay_visualization\\1737364816_00000006.bin_error_overlay.png\n",
      "Saving ..\\..\\data\\chunks\\output\\overlay_visualization\\1737364816_00000118.bin_error_overlay.png\n",
      "Saving ..\\..\\data\\chunks\\output\\overlay_visualization\\1737364816_00000162.bin_error_overlay.png\n",
      "Saving ..\\..\\data\\chunks\\output\\overlay_visualization\\1737364816_00000191.bin_error_overlay.png\n",
      "Saving ..\\..\\data\\chunks\\output\\overlay_visualization\\1737366878_00000015.bin_error_overlay.png\n",
      "Saving ..\\..\\data\\chunks\\output\\overlay_visualization\\1737366878_00000023.bin_error_overlay.png\n",
      "Saving ..\\..\\data\\chunks\\output\\overlay_visualization\\1737366878_00000024.bin_error_overlay.png\n",
      "Saving ..\\..\\data\\chunks\\output\\overlay_visualization\\1737366878_00000090.bin_error_overlay.png\n",
      "Saving ..\\..\\data\\chunks\\output\\overlay_visualization\\1737366878_00000105.bin_error_overlay.png\n",
      "Saving ..\\..\\data\\chunks\\output\\overlay_visualization\\1737367351_00000007.bin_error_overlay.png\n",
      "Saving ..\\..\\data\\chunks\\output\\overlay_visualization\\1737367351_00000052.bin_error_overlay.png\n",
      "Saving ..\\..\\data\\chunks\\output\\overlay_visualization\\1737367351_00000059.bin_error_overlay.png\n",
      "Saving ..\\..\\data\\chunks\\output\\overlay_visualization\\1737367351_00000063.bin_error_overlay.png\n",
      "Saving ..\\..\\data\\chunks\\output\\overlay_visualization\\1737367351_00000080.bin_error_overlay.png\n",
      "Saving ..\\..\\data\\chunks\\output\\overlay_visualization\\1737368250_00000005.bin_error_overlay.png\n",
      "Saving ..\\..\\data\\chunks\\output\\overlay_visualization\\1737368250_00000011.bin_error_overlay.png\n",
      "Saving ..\\..\\data\\chunks\\output\\overlay_visualization\\1737368250_00000024.bin_error_overlay.png\n",
      "Saving ..\\..\\data\\chunks\\output\\overlay_visualization\\1737368250_00000047.bin_error_overlay.png\n",
      "Saving ..\\..\\data\\chunks\\output\\overlay_visualization\\1737368250_00000058.bin_error_overlay.png\n",
      "Saving ..\\..\\data\\chunks\\output\\overlay_visualization\\1737368595_00000036.bin_error_overlay.png\n",
      "Saving ..\\..\\data\\chunks\\output\\overlay_visualization\\1737368595_00000092.bin_error_overlay.png\n",
      "Saving ..\\..\\data\\chunks\\output\\overlay_visualization\\1737368595_00000118.bin_error_overlay.png\n",
      "Saving ..\\..\\data\\chunks\\output\\overlay_visualization\\1737368595_00000145.bin_error_overlay.png\n",
      "Saving ..\\..\\data\\chunks\\output\\overlay_visualization\\1737374684_00000120.bin_error_overlay.png\n",
      "Saving ..\\..\\data\\chunks\\output\\overlay_visualization\\1737374684_00000135.bin_error_overlay.png\n",
      "Saving ..\\..\\data\\chunks\\output\\overlay_visualization\\1737374684_00000155.bin_error_overlay.png\n"
     ]
    },
    {
     "ename": "KeyboardInterrupt",
     "evalue": "",
     "output_type": "error",
     "traceback": [
      "\u001b[1;31m---------------------------------------------------------------------------\u001b[0m",
      "\u001b[1;31mAttributeError\u001b[0m                            Traceback (most recent call last)",
      "File \u001b[1;32m~\\AppData\\Roaming\\Python\\Python312\\site-packages\\PIL\\ImageFile.py:547\u001b[0m, in \u001b[0;36m_save\u001b[1;34m(im, fp, tile, bufsize)\u001b[0m\n\u001b[0;32m    546\u001b[0m \u001b[38;5;28;01mtry\u001b[39;00m:\n\u001b[1;32m--> 547\u001b[0m     fh \u001b[38;5;241m=\u001b[39m \u001b[43mfp\u001b[49m\u001b[38;5;241;43m.\u001b[39;49m\u001b[43mfileno\u001b[49m()\n\u001b[0;32m    548\u001b[0m     fp\u001b[38;5;241m.\u001b[39mflush()\n",
      "\u001b[1;31mAttributeError\u001b[0m: '_idat' object has no attribute 'fileno'",
      "\nDuring handling of the above exception, another exception occurred:\n",
      "\u001b[1;31mKeyboardInterrupt\u001b[0m                         Traceback (most recent call last)",
      "Cell \u001b[1;32mIn[4], line 2\u001b[0m\n\u001b[0;32m      1\u001b[0m \u001b[38;5;66;03m# save overlay visualizations for predictions\u001b[39;00m\n\u001b[1;32m----> 2\u001b[0m \u001b[43mprint_error_visualization_for_pages\u001b[49m\u001b[43m(\u001b[49m\n\u001b[0;32m      3\u001b[0m \u001b[43m    \u001b[49m\u001b[43mpred_annotated_pages\u001b[49m\u001b[43m,\u001b[49m\u001b[43m \u001b[49m\u001b[43mdataset_path\u001b[49m\u001b[43m \u001b[49m\u001b[38;5;241;43m/\u001b[39;49m\u001b[43m \u001b[49m\u001b[38;5;124;43m\"\u001b[39;49m\u001b[38;5;124;43mchunks/output/overlay_visualization\u001b[39;49m\u001b[38;5;124;43m\"\u001b[39;49m\n\u001b[0;32m      4\u001b[0m \u001b[43m)\u001b[49m\n\u001b[0;32m      5\u001b[0m \u001b[38;5;66;03m# save xml files for predictions\u001b[39;00m\n\u001b[0;32m      6\u001b[0m save_pages(gt_annotated_pages, dataset_path \u001b[38;5;241m/\u001b[39m \u001b[38;5;124m\"\u001b[39m\u001b[38;5;124mchunks/output/xml\u001b[39m\u001b[38;5;124m\"\u001b[39m)\n",
      "File \u001b[1;32mc:\\Users\\userpc\\Desktop\\ocr-FINAL\\OCR-Evaluation\\src\\evaluator\\evaluation.py:132\u001b[0m, in \u001b[0;36mprint_error_visualization_for_pages\u001b[1;34m(pages, output_dir)\u001b[0m\n\u001b[0;32m    130\u001b[0m pred_err_path \u001b[38;5;241m=\u001b[39m out_path \u001b[38;5;241m/\u001b[39m \u001b[38;5;124mf\u001b[39m\u001b[38;5;124m\"\u001b[39m\u001b[38;5;132;01m{\u001b[39;00mstem\u001b[38;5;132;01m}\u001b[39;00m\u001b[38;5;124m_error_overlay.png\u001b[39m\u001b[38;5;124m\"\u001b[39m\n\u001b[0;32m    131\u001b[0m \u001b[38;5;28mprint\u001b[39m(\u001b[38;5;124mf\u001b[39m\u001b[38;5;124m\"\u001b[39m\u001b[38;5;124mSaving \u001b[39m\u001b[38;5;132;01m{\u001b[39;00mpred_err_path\u001b[38;5;132;01m}\u001b[39;00m\u001b[38;5;124m\"\u001b[39m)\n\u001b[1;32m--> 132\u001b[0m \u001b[43merr_img\u001b[49m\u001b[38;5;241;43m.\u001b[39;49m\u001b[43msave\u001b[49m\u001b[43m(\u001b[49m\u001b[43mpred_err_path\u001b[49m\u001b[43m)\u001b[49m\n",
      "File \u001b[1;32m~\\AppData\\Roaming\\Python\\Python312\\site-packages\\PIL\\Image.py:2568\u001b[0m, in \u001b[0;36mImage.save\u001b[1;34m(self, fp, format, **params)\u001b[0m\n\u001b[0;32m   2565\u001b[0m     fp \u001b[38;5;241m=\u001b[39m cast(IO[\u001b[38;5;28mbytes\u001b[39m], fp)\n\u001b[0;32m   2567\u001b[0m \u001b[38;5;28;01mtry\u001b[39;00m:\n\u001b[1;32m-> 2568\u001b[0m     \u001b[43msave_handler\u001b[49m\u001b[43m(\u001b[49m\u001b[38;5;28;43mself\u001b[39;49m\u001b[43m,\u001b[49m\u001b[43m \u001b[49m\u001b[43mfp\u001b[49m\u001b[43m,\u001b[49m\u001b[43m \u001b[49m\u001b[43mfilename\u001b[49m\u001b[43m)\u001b[49m\n\u001b[0;32m   2569\u001b[0m \u001b[38;5;28;01mexcept\u001b[39;00m \u001b[38;5;167;01mException\u001b[39;00m:\n\u001b[0;32m   2570\u001b[0m     \u001b[38;5;28;01mif\u001b[39;00m open_fp:\n",
      "File \u001b[1;32m~\\AppData\\Roaming\\Python\\Python312\\site-packages\\PIL\\PngImagePlugin.py:1431\u001b[0m, in \u001b[0;36m_save\u001b[1;34m(im, fp, filename, chunk, save_all)\u001b[0m\n\u001b[0;32m   1427\u001b[0m     im \u001b[38;5;241m=\u001b[39m _write_multiple_frames(\n\u001b[0;32m   1428\u001b[0m         im, fp, chunk, mode, rawmode, default_image, append_images\n\u001b[0;32m   1429\u001b[0m     )\n\u001b[0;32m   1430\u001b[0m \u001b[38;5;28;01mif\u001b[39;00m im:\n\u001b[1;32m-> 1431\u001b[0m     \u001b[43mImageFile\u001b[49m\u001b[38;5;241;43m.\u001b[39;49m\u001b[43m_save\u001b[49m\u001b[43m(\u001b[49m\u001b[43mim\u001b[49m\u001b[43m,\u001b[49m\u001b[43m \u001b[49m\u001b[43m_idat\u001b[49m\u001b[43m(\u001b[49m\u001b[43mfp\u001b[49m\u001b[43m,\u001b[49m\u001b[43m \u001b[49m\u001b[43mchunk\u001b[49m\u001b[43m)\u001b[49m\u001b[43m,\u001b[49m\u001b[43m \u001b[49m\u001b[43m[\u001b[49m\u001b[43m(\u001b[49m\u001b[38;5;124;43m\"\u001b[39;49m\u001b[38;5;124;43mzip\u001b[39;49m\u001b[38;5;124;43m\"\u001b[39;49m\u001b[43m,\u001b[49m\u001b[43m \u001b[49m\u001b[43m(\u001b[49m\u001b[38;5;241;43m0\u001b[39;49m\u001b[43m,\u001b[49m\u001b[43m \u001b[49m\u001b[38;5;241;43m0\u001b[39;49m\u001b[43m)\u001b[49m\u001b[43m \u001b[49m\u001b[38;5;241;43m+\u001b[39;49m\u001b[43m \u001b[49m\u001b[43mim\u001b[49m\u001b[38;5;241;43m.\u001b[39;49m\u001b[43msize\u001b[49m\u001b[43m,\u001b[49m\u001b[43m \u001b[49m\u001b[38;5;241;43m0\u001b[39;49m\u001b[43m,\u001b[49m\u001b[43m \u001b[49m\u001b[43mrawmode\u001b[49m\u001b[43m)\u001b[49m\u001b[43m]\u001b[49m\u001b[43m)\u001b[49m\n\u001b[0;32m   1433\u001b[0m \u001b[38;5;28;01mif\u001b[39;00m info:\n\u001b[0;32m   1434\u001b[0m     \u001b[38;5;28;01mfor\u001b[39;00m info_chunk \u001b[38;5;129;01min\u001b[39;00m info\u001b[38;5;241m.\u001b[39mchunks:\n",
      "File \u001b[1;32m~\\AppData\\Roaming\\Python\\Python312\\site-packages\\PIL\\ImageFile.py:551\u001b[0m, in \u001b[0;36m_save\u001b[1;34m(im, fp, tile, bufsize)\u001b[0m\n\u001b[0;32m    549\u001b[0m     _encode_tile(im, fp, tile, bufsize, fh)\n\u001b[0;32m    550\u001b[0m \u001b[38;5;28;01mexcept\u001b[39;00m (\u001b[38;5;167;01mAttributeError\u001b[39;00m, io\u001b[38;5;241m.\u001b[39mUnsupportedOperation) \u001b[38;5;28;01mas\u001b[39;00m exc:\n\u001b[1;32m--> 551\u001b[0m     \u001b[43m_encode_tile\u001b[49m\u001b[43m(\u001b[49m\u001b[43mim\u001b[49m\u001b[43m,\u001b[49m\u001b[43m \u001b[49m\u001b[43mfp\u001b[49m\u001b[43m,\u001b[49m\u001b[43m \u001b[49m\u001b[43mtile\u001b[49m\u001b[43m,\u001b[49m\u001b[43m \u001b[49m\u001b[43mbufsize\u001b[49m\u001b[43m,\u001b[49m\u001b[43m \u001b[49m\u001b[38;5;28;43;01mNone\u001b[39;49;00m\u001b[43m,\u001b[49m\u001b[43m \u001b[49m\u001b[43mexc\u001b[49m\u001b[43m)\u001b[49m\n\u001b[0;32m    552\u001b[0m \u001b[38;5;28;01mif\u001b[39;00m \u001b[38;5;28mhasattr\u001b[39m(fp, \u001b[38;5;124m\"\u001b[39m\u001b[38;5;124mflush\u001b[39m\u001b[38;5;124m\"\u001b[39m):\n\u001b[0;32m    553\u001b[0m     fp\u001b[38;5;241m.\u001b[39mflush()\n",
      "File \u001b[1;32m~\\AppData\\Roaming\\Python\\Python312\\site-packages\\PIL\\ImageFile.py:570\u001b[0m, in \u001b[0;36m_encode_tile\u001b[1;34m(im, fp, tile, bufsize, fh, exc)\u001b[0m\n\u001b[0;32m    567\u001b[0m \u001b[38;5;28;01mif\u001b[39;00m exc:\n\u001b[0;32m    568\u001b[0m     \u001b[38;5;66;03m# compress to Python file-compatible object\u001b[39;00m\n\u001b[0;32m    569\u001b[0m     \u001b[38;5;28;01mwhile\u001b[39;00m \u001b[38;5;28;01mTrue\u001b[39;00m:\n\u001b[1;32m--> 570\u001b[0m         errcode, data \u001b[38;5;241m=\u001b[39m \u001b[43mencoder\u001b[49m\u001b[38;5;241;43m.\u001b[39;49m\u001b[43mencode\u001b[49m\u001b[43m(\u001b[49m\u001b[43mbufsize\u001b[49m\u001b[43m)\u001b[49m[\u001b[38;5;241m1\u001b[39m:]\n\u001b[0;32m    571\u001b[0m         fp\u001b[38;5;241m.\u001b[39mwrite(data)\n\u001b[0;32m    572\u001b[0m         \u001b[38;5;28;01mif\u001b[39;00m errcode:\n",
      "\u001b[1;31mKeyboardInterrupt\u001b[0m: "
     ]
    }
   ],
   "source": [
    "# save overlay visualizations for predictions\n",
    "print_error_visualization_for_pages(\n",
    "    pred_annotated_pages, dataset_path / \"chunks/output/overlay_visualization\"\n",
    ")\n",
    "# save xml files for predictions\n",
    "save_pages(gt_annotated_pages, dataset_path / \"chunks/output/xml\")\n",
    "\n",
    "# Statistics\n",
    "calulate_statistics_for_page_sets(gt_annotated_pages, pred_annotated_pages, True)"
   ]
  }
 ],
 "metadata": {
  "kernelspec": {
   "display_name": "Python 3",
   "language": "python",
   "name": "python3"
  },
  "language_info": {
   "codemirror_mode": {
    "name": "ipython",
    "version": 3
   },
   "file_extension": ".py",
   "mimetype": "text/x-python",
   "name": "python",
   "nbconvert_exporter": "python",
   "pygments_lexer": "ipython3",
   "version": "3.12.4"
  }
 },
 "nbformat": 4,
 "nbformat_minor": 5
}
